{
  "nbformat": 4,
  "nbformat_minor": 0,
  "metadata": {
    "colab": {
      "name": "Decision_tree.ipynb",
      "provenance": [],
      "collapsed_sections": [],
      "toc_visible": true
    },
    "kernelspec": {
      "name": "python3",
      "display_name": "Python 3"
    },
    "language_info": {
      "name": "python"
    }
  },
  "cells": [
    {
      "cell_type": "markdown",
      "metadata": {
        "id": "w_E4ZlYHopK7"
      },
      "source": [
        "Авторы:\n",
        "\n",
        "Комиссаров Александр, группа К3241, Мигулаева Татьяна, группа К3222 \n",
        "\n",
        "---\n",
        "\n",
        "В данной работе мы рассмотрим датасет, взятый из курса \"Машинное обучение и анализ данных\". Цель работы состоит в том, чтобы предсказать, есть ли у пациента диабет, основываясь на определенных диагностических измерениях, включенных в набор данных, который получен из исходной базы данных наложением нескольких ограничений. В частности, в рассматриваемых в задании данных, все пациенты — женщины не менее 21 года индийского происхождения."
      ]
    },
    {
      "cell_type": "code",
      "metadata": {
        "id": "wNnh7SR2pKA0"
      },
      "source": [
        "import pandas as pd\n",
        "import matplotlib\n",
        "import numpy as np\n",
        "import matplotlib.pyplot as plt\n",
        "%matplotlib inline"
      ],
      "execution_count": null,
      "outputs": []
    },
    {
      "cell_type": "code",
      "metadata": {
        "id": "CKjQNfqQp5o_"
      },
      "source": [
        "df = pd.read_csv('diabetes.csv')"
      ],
      "execution_count": null,
      "outputs": []
    },
    {
      "cell_type": "code",
      "metadata": {
        "colab": {
          "base_uri": "https://localhost:8080/",
          "height": 203
        },
        "id": "d6uVpbnlrnYT",
        "outputId": "f4f1b5ad-7aa4-4ca7-af69-abd6ec3959e2"
      },
      "source": [
        "df.head()"
      ],
      "execution_count": null,
      "outputs": [
        {
          "output_type": "execute_result",
          "data": {
            "text/html": [
              "<div>\n",
              "<style scoped>\n",
              "    .dataframe tbody tr th:only-of-type {\n",
              "        vertical-align: middle;\n",
              "    }\n",
              "\n",
              "    .dataframe tbody tr th {\n",
              "        vertical-align: top;\n",
              "    }\n",
              "\n",
              "    .dataframe thead th {\n",
              "        text-align: right;\n",
              "    }\n",
              "</style>\n",
              "<table border=\"1\" class=\"dataframe\">\n",
              "  <thead>\n",
              "    <tr style=\"text-align: right;\">\n",
              "      <th></th>\n",
              "      <th>Pregnancies</th>\n",
              "      <th>Glucose</th>\n",
              "      <th>BloodPressure</th>\n",
              "      <th>SkinThickness</th>\n",
              "      <th>Insulin</th>\n",
              "      <th>BMI</th>\n",
              "      <th>DiabetesPedigreeFunction</th>\n",
              "      <th>Age</th>\n",
              "      <th>Outcome</th>\n",
              "    </tr>\n",
              "  </thead>\n",
              "  <tbody>\n",
              "    <tr>\n",
              "      <th>0</th>\n",
              "      <td>6</td>\n",
              "      <td>148</td>\n",
              "      <td>72</td>\n",
              "      <td>35</td>\n",
              "      <td>0</td>\n",
              "      <td>33.6</td>\n",
              "      <td>0.627</td>\n",
              "      <td>50</td>\n",
              "      <td>1</td>\n",
              "    </tr>\n",
              "    <tr>\n",
              "      <th>1</th>\n",
              "      <td>1</td>\n",
              "      <td>85</td>\n",
              "      <td>66</td>\n",
              "      <td>29</td>\n",
              "      <td>0</td>\n",
              "      <td>26.6</td>\n",
              "      <td>0.351</td>\n",
              "      <td>31</td>\n",
              "      <td>0</td>\n",
              "    </tr>\n",
              "    <tr>\n",
              "      <th>2</th>\n",
              "      <td>8</td>\n",
              "      <td>183</td>\n",
              "      <td>64</td>\n",
              "      <td>0</td>\n",
              "      <td>0</td>\n",
              "      <td>23.3</td>\n",
              "      <td>0.672</td>\n",
              "      <td>32</td>\n",
              "      <td>1</td>\n",
              "    </tr>\n",
              "    <tr>\n",
              "      <th>3</th>\n",
              "      <td>1</td>\n",
              "      <td>89</td>\n",
              "      <td>66</td>\n",
              "      <td>23</td>\n",
              "      <td>94</td>\n",
              "      <td>28.1</td>\n",
              "      <td>0.167</td>\n",
              "      <td>21</td>\n",
              "      <td>0</td>\n",
              "    </tr>\n",
              "    <tr>\n",
              "      <th>4</th>\n",
              "      <td>0</td>\n",
              "      <td>137</td>\n",
              "      <td>40</td>\n",
              "      <td>35</td>\n",
              "      <td>168</td>\n",
              "      <td>43.1</td>\n",
              "      <td>2.288</td>\n",
              "      <td>33</td>\n",
              "      <td>1</td>\n",
              "    </tr>\n",
              "  </tbody>\n",
              "</table>\n",
              "</div>"
            ],
            "text/plain": [
              "   Pregnancies  Glucose  BloodPressure  ...  DiabetesPedigreeFunction  Age  Outcome\n",
              "0            6      148             72  ...                     0.627   50        1\n",
              "1            1       85             66  ...                     0.351   31        0\n",
              "2            8      183             64  ...                     0.672   32        1\n",
              "3            1       89             66  ...                     0.167   21        0\n",
              "4            0      137             40  ...                     2.288   33        1\n",
              "\n",
              "[5 rows x 9 columns]"
            ]
          },
          "metadata": {
            "tags": []
          },
          "execution_count": 4
        }
      ]
    },
    {
      "cell_type": "markdown",
      "metadata": {
        "id": "UGhRQqepruzp"
      },
      "source": [
        "Отберём первые 590 строк датасета для решения нашей задачи:"
      ]
    },
    {
      "cell_type": "code",
      "metadata": {
        "id": "uIK2R0hprpqq"
      },
      "source": [
        "task_data = df.head(590)"
      ],
      "execution_count": null,
      "outputs": []
    },
    {
      "cell_type": "markdown",
      "metadata": {
        "id": "WWke5XUnr-9-"
      },
      "source": [
        "Вывод числа строк в получившейся выборке и относящихся к классу 1 (пациент болен диабетом)"
      ]
    },
    {
      "cell_type": "code",
      "metadata": {
        "colab": {
          "base_uri": "https://localhost:8080/"
        },
        "id": "zyIJZy-Hr9Gq",
        "outputId": "55aff411-7977-48cc-a4b3-aef97601ea9c"
      },
      "source": [
        "len(task_data[task_data['Outcome'] == 1])"
      ],
      "execution_count": null,
      "outputs": [
        {
          "output_type": "execute_result",
          "data": {
            "text/plain": [
              "204"
            ]
          },
          "metadata": {
            "tags": []
          },
          "execution_count": 7
        }
      ]
    },
    {
      "cell_type": "markdown",
      "metadata": {
        "id": "4rEoG6sksVXF"
      },
      "source": [
        "Разделеные данных на тренировочные и тестовые. Первые 70% строк — тренировочные, остальные — тестовые."
      ]
    },
    {
      "cell_type": "code",
      "metadata": {
        "id": "bn15D43dsY6M"
      },
      "source": [
        "train = task_data.head(int(len(task_data)*0.7))\n",
        "test = task_data.tail(int(len(task_data)*0.3))"
      ],
      "execution_count": null,
      "outputs": []
    },
    {
      "cell_type": "markdown",
      "metadata": {
        "id": "wJAVEZU7sk4K"
      },
      "source": [
        "Выделяем предикторы (8 первых столбцов) и отклик (Outcome):"
      ]
    },
    {
      "cell_type": "code",
      "metadata": {
        "id": "q_hjO7Dosntz"
      },
      "source": [
        "features = list(train.columns[:8])\n",
        "x = train[features]\n",
        "y = train['Outcome']"
      ],
      "execution_count": null,
      "outputs": []
    },
    {
      "cell_type": "markdown",
      "metadata": {
        "id": "yCdI2FN5szv6"
      },
      "source": [
        "Подключем классификатор DecisionTreeClassifier:"
      ]
    },
    {
      "cell_type": "code",
      "metadata": {
        "id": "GvKhncXps0wC"
      },
      "source": [
        "from sklearn.tree import DecisionTreeClassifier"
      ],
      "execution_count": null,
      "outputs": []
    },
    {
      "cell_type": "markdown",
      "metadata": {
        "id": "5yDc-l4Hs2d5"
      },
      "source": [
        "\n",
        "Задаем параметры дерева принятия решений и обучаем модель:"
      ]
    },
    {
      "cell_type": "code",
      "metadata": {
        "id": "CJKa1JmCs3lp"
      },
      "source": [
        "tree = DecisionTreeClassifier(criterion='entropy', #критерий разделения\n",
        "                              min_samples_leaf=20, #минимальное число объектов в листе\n",
        "                              max_leaf_nodes=30, #максимальное число листьев\n",
        "                              random_state=2020)\n",
        "clf=tree.fit(x, y)"
      ],
      "execution_count": null,
      "outputs": []
    },
    {
      "cell_type": "markdown",
      "metadata": {
        "id": "bLIUgb6ss94O"
      },
      "source": [
        "\n",
        "Подключаем библиотеку для визуализации дерева. Сохраняем в файл и выводим на экран."
      ]
    },
    {
      "cell_type": "code",
      "metadata": {
        "colab": {
          "base_uri": "https://localhost:8080/",
          "height": 1000
        },
        "id": "O-0qGmGOs_Ee",
        "outputId": "a0aed392-9f69-42a1-b3a0-48e66caac385"
      },
      "source": [
        "from sklearn.tree import export_graphviz\n",
        "import graphviz\n",
        "columns = list(x.columns)\n",
        "export_graphviz(clf, out_file='tree.dot', \n",
        "                feature_names=columns,\n",
        "                class_names=['0', '1'],\n",
        "                rounded = True, proportion = False, \n",
        "                precision = 2, filled = True, label='all')\n",
        "\n",
        "with open('tree.dot') as f:\n",
        "    dot_graph = f.read()\n",
        "\n",
        "graphviz.Source(dot_graph)"
      ],
      "execution_count": null,
      "outputs": [
        {
          "output_type": "execute_result",
          "data": {
            "text/plain": [
              "<graphviz.files.Source at 0x7efd10ce0f50>"
            ],
            "image/svg+xml": "<?xml version=\"1.0\" encoding=\"UTF-8\" standalone=\"no\"?>\n<!DOCTYPE svg PUBLIC \"-//W3C//DTD SVG 1.1//EN\"\n \"http://www.w3.org/Graphics/SVG/1.1/DTD/svg11.dtd\">\n<!-- Generated by graphviz version 2.40.1 (20161225.0304)\n -->\n<!-- Title: Tree Pages: 1 -->\n<svg width=\"958pt\" height=\"909pt\"\n viewBox=\"0.00 0.00 957.50 909.00\" xmlns=\"http://www.w3.org/2000/svg\" xmlns:xlink=\"http://www.w3.org/1999/xlink\">\n<g id=\"graph0\" class=\"graph\" transform=\"scale(1 1) rotate(0) translate(4 905)\">\n<title>Tree</title>\n<polygon fill=\"#ffffff\" stroke=\"transparent\" points=\"-4,4 -4,-905 953.5,-905 953.5,4 -4,4\"/>\n<!-- 0 -->\n<g id=\"node1\" class=\"node\">\n<title>0</title>\n<path fill=\"#f5cfb4\" stroke=\"#000000\" d=\"M616.5,-901C616.5,-901 508.5,-901 508.5,-901 502.5,-901 496.5,-895 496.5,-889 496.5,-889 496.5,-830 496.5,-830 496.5,-824 502.5,-818 508.5,-818 508.5,-818 616.5,-818 616.5,-818 622.5,-818 628.5,-824 628.5,-830 628.5,-830 628.5,-889 628.5,-889 628.5,-895 622.5,-901 616.5,-901\"/>\n<text text-anchor=\"middle\" x=\"562.5\" y=\"-885.8\" font-family=\"Helvetica,sans-Serif\" font-size=\"14.00\" fill=\"#000000\">Glucose &lt;= 151.5</text>\n<text text-anchor=\"middle\" x=\"562.5\" y=\"-870.8\" font-family=\"Helvetica,sans-Serif\" font-size=\"14.00\" fill=\"#000000\">entropy = 0.96</text>\n<text text-anchor=\"middle\" x=\"562.5\" y=\"-855.8\" font-family=\"Helvetica,sans-Serif\" font-size=\"14.00\" fill=\"#000000\">samples = 413</text>\n<text text-anchor=\"middle\" x=\"562.5\" y=\"-840.8\" font-family=\"Helvetica,sans-Serif\" font-size=\"14.00\" fill=\"#000000\">value = [255, 158]</text>\n<text text-anchor=\"middle\" x=\"562.5\" y=\"-825.8\" font-family=\"Helvetica,sans-Serif\" font-size=\"14.00\" fill=\"#000000\">class = 0</text>\n</g>\n<!-- 1 -->\n<g id=\"node2\" class=\"node\">\n<title>1</title>\n<path fill=\"#f0b48a\" stroke=\"#000000\" d=\"M514.5,-782C514.5,-782 414.5,-782 414.5,-782 408.5,-782 402.5,-776 402.5,-770 402.5,-770 402.5,-711 402.5,-711 402.5,-705 408.5,-699 414.5,-699 414.5,-699 514.5,-699 514.5,-699 520.5,-699 526.5,-705 526.5,-711 526.5,-711 526.5,-770 526.5,-770 526.5,-776 520.5,-782 514.5,-782\"/>\n<text text-anchor=\"middle\" x=\"464.5\" y=\"-766.8\" font-family=\"Helvetica,sans-Serif\" font-size=\"14.00\" fill=\"#000000\">BMI &lt;= 26.9</text>\n<text text-anchor=\"middle\" x=\"464.5\" y=\"-751.8\" font-family=\"Helvetica,sans-Serif\" font-size=\"14.00\" fill=\"#000000\">entropy = 0.87</text>\n<text text-anchor=\"middle\" x=\"464.5\" y=\"-736.8\" font-family=\"Helvetica,sans-Serif\" font-size=\"14.00\" fill=\"#000000\">samples = 338</text>\n<text text-anchor=\"middle\" x=\"464.5\" y=\"-721.8\" font-family=\"Helvetica,sans-Serif\" font-size=\"14.00\" fill=\"#000000\">value = [240, 98]</text>\n<text text-anchor=\"middle\" x=\"464.5\" y=\"-706.8\" font-family=\"Helvetica,sans-Serif\" font-size=\"14.00\" fill=\"#000000\">class = 0</text>\n</g>\n<!-- 0&#45;&gt;1 -->\n<g id=\"edge1\" class=\"edge\">\n<title>0&#45;&gt;1</title>\n<path fill=\"none\" stroke=\"#000000\" d=\"M528.2244,-817.8796C520.8816,-808.9633 513.0524,-799.4565 505.4854,-790.268\"/>\n<polygon fill=\"#000000\" stroke=\"#000000\" points=\"507.9808,-787.7924 498.9219,-782.2981 502.5773,-792.2424 507.9808,-787.7924\"/>\n<text text-anchor=\"middle\" x=\"496.5138\" y=\"-803.4818\" font-family=\"Helvetica,sans-Serif\" font-size=\"14.00\" fill=\"#000000\">True</text>\n</g>\n<!-- 2 -->\n<g id=\"node25\" class=\"node\">\n<title>2</title>\n<path fill=\"#6ab6ec\" stroke=\"#000000\" d=\"M766,-782C766,-782 557,-782 557,-782 551,-782 545,-776 545,-770 545,-770 545,-711 545,-711 545,-705 551,-699 557,-699 557,-699 766,-699 766,-699 772,-699 778,-705 778,-711 778,-711 778,-770 778,-770 778,-776 772,-782 766,-782\"/>\n<text text-anchor=\"middle\" x=\"661.5\" y=\"-766.8\" font-family=\"Helvetica,sans-Serif\" font-size=\"14.00\" fill=\"#000000\">DiabetesPedigreeFunction &lt;= 0.3</text>\n<text text-anchor=\"middle\" x=\"661.5\" y=\"-751.8\" font-family=\"Helvetica,sans-Serif\" font-size=\"14.00\" fill=\"#000000\">entropy = 0.72</text>\n<text text-anchor=\"middle\" x=\"661.5\" y=\"-736.8\" font-family=\"Helvetica,sans-Serif\" font-size=\"14.00\" fill=\"#000000\">samples = 75</text>\n<text text-anchor=\"middle\" x=\"661.5\" y=\"-721.8\" font-family=\"Helvetica,sans-Serif\" font-size=\"14.00\" fill=\"#000000\">value = [15, 60]</text>\n<text text-anchor=\"middle\" x=\"661.5\" y=\"-706.8\" font-family=\"Helvetica,sans-Serif\" font-size=\"14.00\" fill=\"#000000\">class = 1</text>\n</g>\n<!-- 0&#45;&gt;2 -->\n<g id=\"edge24\" class=\"edge\">\n<title>0&#45;&gt;2</title>\n<path fill=\"none\" stroke=\"#000000\" d=\"M597.1254,-817.8796C604.618,-808.8733 612.6119,-799.2644 620.3279,-789.9897\"/>\n<polygon fill=\"#000000\" stroke=\"#000000\" points=\"623.0219,-792.224 626.7268,-782.2981 617.6407,-787.7472 623.0219,-792.224\"/>\n<text text-anchor=\"middle\" x=\"629.0108\" y=\"-803.4935\" font-family=\"Helvetica,sans-Serif\" font-size=\"14.00\" fill=\"#000000\">False</text>\n</g>\n<!-- 3 -->\n<g id=\"node3\" class=\"node\">\n<title>3</title>\n<path fill=\"#e78945\" stroke=\"#000000\" d=\"M300,-663C300,-663 193,-663 193,-663 187,-663 181,-657 181,-651 181,-651 181,-592 181,-592 181,-586 187,-580 193,-580 193,-580 300,-580 300,-580 306,-580 312,-586 312,-592 312,-592 312,-651 312,-651 312,-657 306,-663 300,-663\"/>\n<text text-anchor=\"middle\" x=\"246.5\" y=\"-647.8\" font-family=\"Helvetica,sans-Serif\" font-size=\"14.00\" fill=\"#000000\">Glucose &lt;= 105.5</text>\n<text text-anchor=\"middle\" x=\"246.5\" y=\"-632.8\" font-family=\"Helvetica,sans-Serif\" font-size=\"14.00\" fill=\"#000000\">entropy = 0.31</text>\n<text text-anchor=\"middle\" x=\"246.5\" y=\"-617.8\" font-family=\"Helvetica,sans-Serif\" font-size=\"14.00\" fill=\"#000000\">samples = 88</text>\n<text text-anchor=\"middle\" x=\"246.5\" y=\"-602.8\" font-family=\"Helvetica,sans-Serif\" font-size=\"14.00\" fill=\"#000000\">value = [83, 5]</text>\n<text text-anchor=\"middle\" x=\"246.5\" y=\"-587.8\" font-family=\"Helvetica,sans-Serif\" font-size=\"14.00\" fill=\"#000000\">class = 0</text>\n</g>\n<!-- 1&#45;&gt;3 -->\n<g id=\"edge2\" class=\"edge\">\n<title>1&#45;&gt;3</title>\n<path fill=\"none\" stroke=\"#000000\" d=\"M402.3217,-706.5586C376.9945,-692.7332 347.5032,-676.6348 321.0344,-662.1862\"/>\n<polygon fill=\"#000000\" stroke=\"#000000\" points=\"322.6387,-659.0745 312.1843,-657.3552 319.2848,-665.2187 322.6387,-659.0745\"/>\n</g>\n<!-- 4 -->\n<g id=\"node8\" class=\"node\">\n<title>4</title>\n<path fill=\"#f4ccae\" stroke=\"#000000\" d=\"M531.5,-663C531.5,-663 431.5,-663 431.5,-663 425.5,-663 419.5,-657 419.5,-651 419.5,-651 419.5,-592 419.5,-592 419.5,-586 425.5,-580 431.5,-580 431.5,-580 531.5,-580 531.5,-580 537.5,-580 543.5,-586 543.5,-592 543.5,-592 543.5,-651 543.5,-651 543.5,-657 537.5,-663 531.5,-663\"/>\n<text text-anchor=\"middle\" x=\"481.5\" y=\"-647.8\" font-family=\"Helvetica,sans-Serif\" font-size=\"14.00\" fill=\"#000000\">Glucose &lt;= 99.5</text>\n<text text-anchor=\"middle\" x=\"481.5\" y=\"-632.8\" font-family=\"Helvetica,sans-Serif\" font-size=\"14.00\" fill=\"#000000\">entropy = 0.95</text>\n<text text-anchor=\"middle\" x=\"481.5\" y=\"-617.8\" font-family=\"Helvetica,sans-Serif\" font-size=\"14.00\" fill=\"#000000\">samples = 250</text>\n<text text-anchor=\"middle\" x=\"481.5\" y=\"-602.8\" font-family=\"Helvetica,sans-Serif\" font-size=\"14.00\" fill=\"#000000\">value = [157, 93]</text>\n<text text-anchor=\"middle\" x=\"481.5\" y=\"-587.8\" font-family=\"Helvetica,sans-Serif\" font-size=\"14.00\" fill=\"#000000\">class = 0</text>\n</g>\n<!-- 1&#45;&gt;4 -->\n<g id=\"edge7\" class=\"edge\">\n<title>1&#45;&gt;4</title>\n<path fill=\"none\" stroke=\"#000000\" d=\"M470.4458,-698.8796C471.6295,-690.5938 472.886,-681.798 474.1112,-673.2216\"/>\n<polygon fill=\"#000000\" stroke=\"#000000\" points=\"477.5794,-673.6926 475.5288,-663.2981 470.6497,-672.7026 477.5794,-673.6926\"/>\n</g>\n<!-- 17 -->\n<g id=\"node4\" class=\"node\">\n<title>17</title>\n<path fill=\"#e58139\" stroke=\"#000000\" d=\"M95,-536.5C95,-536.5 12,-536.5 12,-536.5 6,-536.5 0,-530.5 0,-524.5 0,-524.5 0,-480.5 0,-480.5 0,-474.5 6,-468.5 12,-468.5 12,-468.5 95,-468.5 95,-468.5 101,-468.5 107,-474.5 107,-480.5 107,-480.5 107,-524.5 107,-524.5 107,-530.5 101,-536.5 95,-536.5\"/>\n<text text-anchor=\"middle\" x=\"53.5\" y=\"-521.3\" font-family=\"Helvetica,sans-Serif\" font-size=\"14.00\" fill=\"#000000\">entropy = 0.0</text>\n<text text-anchor=\"middle\" x=\"53.5\" y=\"-506.3\" font-family=\"Helvetica,sans-Serif\" font-size=\"14.00\" fill=\"#000000\">samples = 47</text>\n<text text-anchor=\"middle\" x=\"53.5\" y=\"-491.3\" font-family=\"Helvetica,sans-Serif\" font-size=\"14.00\" fill=\"#000000\">value = [47, 0]</text>\n<text text-anchor=\"middle\" x=\"53.5\" y=\"-476.3\" font-family=\"Helvetica,sans-Serif\" font-size=\"14.00\" fill=\"#000000\">class = 0</text>\n</g>\n<!-- 3&#45;&gt;17 -->\n<g id=\"edge3\" class=\"edge\">\n<title>3&#45;&gt;17</title>\n<path fill=\"none\" stroke=\"#000000\" d=\"M180.6844,-583.0405C160.021,-570.7585 137.2034,-556.9811 116.5,-544 115.5568,-543.4086 114.6068,-542.8107 113.6514,-542.2075\"/>\n<polygon fill=\"#000000\" stroke=\"#000000\" points=\"115.2638,-539.0847 104.9498,-536.6616 111.5016,-544.9877 115.2638,-539.0847\"/>\n</g>\n<!-- 18 -->\n<g id=\"node5\" class=\"node\">\n<title>18</title>\n<path fill=\"#e99254\" stroke=\"#000000\" d=\"M355.5,-544C355.5,-544 137.5,-544 137.5,-544 131.5,-544 125.5,-538 125.5,-532 125.5,-532 125.5,-473 125.5,-473 125.5,-467 131.5,-461 137.5,-461 137.5,-461 355.5,-461 355.5,-461 361.5,-461 367.5,-467 367.5,-473 367.5,-473 367.5,-532 367.5,-532 367.5,-538 361.5,-544 355.5,-544\"/>\n<text text-anchor=\"middle\" x=\"246.5\" y=\"-528.8\" font-family=\"Helvetica,sans-Serif\" font-size=\"14.00\" fill=\"#000000\">DiabetesPedigreeFunction &lt;= 0.27</text>\n<text text-anchor=\"middle\" x=\"246.5\" y=\"-513.8\" font-family=\"Helvetica,sans-Serif\" font-size=\"14.00\" fill=\"#000000\">entropy = 0.53</text>\n<text text-anchor=\"middle\" x=\"246.5\" y=\"-498.8\" font-family=\"Helvetica,sans-Serif\" font-size=\"14.00\" fill=\"#000000\">samples = 41</text>\n<text text-anchor=\"middle\" x=\"246.5\" y=\"-483.8\" font-family=\"Helvetica,sans-Serif\" font-size=\"14.00\" fill=\"#000000\">value = [36, 5]</text>\n<text text-anchor=\"middle\" x=\"246.5\" y=\"-468.8\" font-family=\"Helvetica,sans-Serif\" font-size=\"14.00\" fill=\"#000000\">class = 0</text>\n</g>\n<!-- 3&#45;&gt;18 -->\n<g id=\"edge4\" class=\"edge\">\n<title>3&#45;&gt;18</title>\n<path fill=\"none\" stroke=\"#000000\" d=\"M246.5,-579.8796C246.5,-571.6838 246.5,-562.9891 246.5,-554.5013\"/>\n<polygon fill=\"#000000\" stroke=\"#000000\" points=\"250.0001,-554.298 246.5,-544.2981 243.0001,-554.2981 250.0001,-554.298\"/>\n</g>\n<!-- 27 -->\n<g id=\"node6\" class=\"node\">\n<title>27</title>\n<path fill=\"#e68743\" stroke=\"#000000\" d=\"M161.5,-417.5C161.5,-417.5 75.5,-417.5 75.5,-417.5 69.5,-417.5 63.5,-411.5 63.5,-405.5 63.5,-405.5 63.5,-361.5 63.5,-361.5 63.5,-355.5 69.5,-349.5 75.5,-349.5 75.5,-349.5 161.5,-349.5 161.5,-349.5 167.5,-349.5 173.5,-355.5 173.5,-361.5 173.5,-361.5 173.5,-405.5 173.5,-405.5 173.5,-411.5 167.5,-417.5 161.5,-417.5\"/>\n<text text-anchor=\"middle\" x=\"118.5\" y=\"-402.3\" font-family=\"Helvetica,sans-Serif\" font-size=\"14.00\" fill=\"#000000\">entropy = 0.28</text>\n<text text-anchor=\"middle\" x=\"118.5\" y=\"-387.3\" font-family=\"Helvetica,sans-Serif\" font-size=\"14.00\" fill=\"#000000\">samples = 21</text>\n<text text-anchor=\"middle\" x=\"118.5\" y=\"-372.3\" font-family=\"Helvetica,sans-Serif\" font-size=\"14.00\" fill=\"#000000\">value = [20, 1]</text>\n<text text-anchor=\"middle\" x=\"118.5\" y=\"-357.3\" font-family=\"Helvetica,sans-Serif\" font-size=\"14.00\" fill=\"#000000\">class = 0</text>\n</g>\n<!-- 18&#45;&gt;27 -->\n<g id=\"edge5\" class=\"edge\">\n<title>18&#45;&gt;27</title>\n<path fill=\"none\" stroke=\"#000000\" d=\"M201.7318,-460.8796C189.1944,-449.2237 175.5716,-436.5587 163.047,-424.9148\"/>\n<polygon fill=\"#000000\" stroke=\"#000000\" points=\"165.1172,-422.0605 155.4102,-417.8149 160.3509,-427.1872 165.1172,-422.0605\"/>\n</g>\n<!-- 28 -->\n<g id=\"node7\" class=\"node\">\n<title>28</title>\n<path fill=\"#eca06a\" stroke=\"#000000\" d=\"M289.5,-417.5C289.5,-417.5 203.5,-417.5 203.5,-417.5 197.5,-417.5 191.5,-411.5 191.5,-405.5 191.5,-405.5 191.5,-361.5 191.5,-361.5 191.5,-355.5 197.5,-349.5 203.5,-349.5 203.5,-349.5 289.5,-349.5 289.5,-349.5 295.5,-349.5 301.5,-355.5 301.5,-361.5 301.5,-361.5 301.5,-405.5 301.5,-405.5 301.5,-411.5 295.5,-417.5 289.5,-417.5\"/>\n<text text-anchor=\"middle\" x=\"246.5\" y=\"-402.3\" font-family=\"Helvetica,sans-Serif\" font-size=\"14.00\" fill=\"#000000\">entropy = 0.72</text>\n<text text-anchor=\"middle\" x=\"246.5\" y=\"-387.3\" font-family=\"Helvetica,sans-Serif\" font-size=\"14.00\" fill=\"#000000\">samples = 20</text>\n<text text-anchor=\"middle\" x=\"246.5\" y=\"-372.3\" font-family=\"Helvetica,sans-Serif\" font-size=\"14.00\" fill=\"#000000\">value = [16, 4]</text>\n<text text-anchor=\"middle\" x=\"246.5\" y=\"-357.3\" font-family=\"Helvetica,sans-Serif\" font-size=\"14.00\" fill=\"#000000\">class = 0</text>\n</g>\n<!-- 18&#45;&gt;28 -->\n<g id=\"edge6\" class=\"edge\">\n<title>18&#45;&gt;28</title>\n<path fill=\"none\" stroke=\"#000000\" d=\"M246.5,-460.8796C246.5,-450.2134 246.5,-438.7021 246.5,-427.9015\"/>\n<polygon fill=\"#000000\" stroke=\"#000000\" points=\"250.0001,-427.8149 246.5,-417.8149 243.0001,-427.815 250.0001,-427.8149\"/>\n</g>\n<!-- 5 -->\n<g id=\"node9\" class=\"node\">\n<title>5</title>\n<path fill=\"#e99457\" stroke=\"#000000\" d=\"M524.5,-544C524.5,-544 438.5,-544 438.5,-544 432.5,-544 426.5,-538 426.5,-532 426.5,-532 426.5,-473 426.5,-473 426.5,-467 432.5,-461 438.5,-461 438.5,-461 524.5,-461 524.5,-461 530.5,-461 536.5,-467 536.5,-473 536.5,-473 536.5,-532 536.5,-532 536.5,-538 530.5,-544 524.5,-544\"/>\n<text text-anchor=\"middle\" x=\"481.5\" y=\"-528.8\" font-family=\"Helvetica,sans-Serif\" font-size=\"14.00\" fill=\"#000000\">Age &lt;= 23.5</text>\n<text text-anchor=\"middle\" x=\"481.5\" y=\"-513.8\" font-family=\"Helvetica,sans-Serif\" font-size=\"14.00\" fill=\"#000000\">entropy = 0.56</text>\n<text text-anchor=\"middle\" x=\"481.5\" y=\"-498.8\" font-family=\"Helvetica,sans-Serif\" font-size=\"14.00\" fill=\"#000000\">samples = 61</text>\n<text text-anchor=\"middle\" x=\"481.5\" y=\"-483.8\" font-family=\"Helvetica,sans-Serif\" font-size=\"14.00\" fill=\"#000000\">value = [53, 8]</text>\n<text text-anchor=\"middle\" x=\"481.5\" y=\"-468.8\" font-family=\"Helvetica,sans-Serif\" font-size=\"14.00\" fill=\"#000000\">class = 0</text>\n</g>\n<!-- 4&#45;&gt;5 -->\n<g id=\"edge8\" class=\"edge\">\n<title>4&#45;&gt;5</title>\n<path fill=\"none\" stroke=\"#000000\" d=\"M481.5,-579.8796C481.5,-571.6838 481.5,-562.9891 481.5,-554.5013\"/>\n<polygon fill=\"#000000\" stroke=\"#000000\" points=\"485.0001,-554.298 481.5,-544.2981 478.0001,-554.2981 485.0001,-554.298\"/>\n</g>\n<!-- 6 -->\n<g id=\"node12\" class=\"node\">\n<title>6</title>\n<path fill=\"#fae8db\" stroke=\"#000000\" d=\"M681.5,-544C681.5,-544 581.5,-544 581.5,-544 575.5,-544 569.5,-538 569.5,-532 569.5,-532 569.5,-473 569.5,-473 569.5,-467 575.5,-461 581.5,-461 581.5,-461 681.5,-461 681.5,-461 687.5,-461 693.5,-467 693.5,-473 693.5,-473 693.5,-532 693.5,-532 693.5,-538 687.5,-544 681.5,-544\"/>\n<text text-anchor=\"middle\" x=\"631.5\" y=\"-528.8\" font-family=\"Helvetica,sans-Serif\" font-size=\"14.00\" fill=\"#000000\">BMI &lt;= 43.0</text>\n<text text-anchor=\"middle\" x=\"631.5\" y=\"-513.8\" font-family=\"Helvetica,sans-Serif\" font-size=\"14.00\" fill=\"#000000\">entropy = 0.99</text>\n<text text-anchor=\"middle\" x=\"631.5\" y=\"-498.8\" font-family=\"Helvetica,sans-Serif\" font-size=\"14.00\" fill=\"#000000\">samples = 189</text>\n<text text-anchor=\"middle\" x=\"631.5\" y=\"-483.8\" font-family=\"Helvetica,sans-Serif\" font-size=\"14.00\" fill=\"#000000\">value = [104, 85]</text>\n<text text-anchor=\"middle\" x=\"631.5\" y=\"-468.8\" font-family=\"Helvetica,sans-Serif\" font-size=\"14.00\" fill=\"#000000\">class = 0</text>\n</g>\n<!-- 4&#45;&gt;6 -->\n<g id=\"edge11\" class=\"edge\">\n<title>4&#45;&gt;6</title>\n<path fill=\"none\" stroke=\"#000000\" d=\"M533.9627,-579.8796C545.9521,-570.368 558.7887,-560.1843 571.0816,-550.432\"/>\n<polygon fill=\"#000000\" stroke=\"#000000\" points=\"573.4081,-553.054 579.0669,-544.0969 569.0575,-547.5701 573.4081,-553.054\"/>\n</g>\n<!-- 13 -->\n<g id=\"node10\" class=\"node\">\n<title>13</title>\n<path fill=\"#e58139\" stroke=\"#000000\" d=\"M415,-417.5C415,-417.5 332,-417.5 332,-417.5 326,-417.5 320,-411.5 320,-405.5 320,-405.5 320,-361.5 320,-361.5 320,-355.5 326,-349.5 332,-349.5 332,-349.5 415,-349.5 415,-349.5 421,-349.5 427,-355.5 427,-361.5 427,-361.5 427,-405.5 427,-405.5 427,-411.5 421,-417.5 415,-417.5\"/>\n<text text-anchor=\"middle\" x=\"373.5\" y=\"-402.3\" font-family=\"Helvetica,sans-Serif\" font-size=\"14.00\" fill=\"#000000\">entropy = 0.0</text>\n<text text-anchor=\"middle\" x=\"373.5\" y=\"-387.3\" font-family=\"Helvetica,sans-Serif\" font-size=\"14.00\" fill=\"#000000\">samples = 23</text>\n<text text-anchor=\"middle\" x=\"373.5\" y=\"-372.3\" font-family=\"Helvetica,sans-Serif\" font-size=\"14.00\" fill=\"#000000\">value = [23, 0]</text>\n<text text-anchor=\"middle\" x=\"373.5\" y=\"-357.3\" font-family=\"Helvetica,sans-Serif\" font-size=\"14.00\" fill=\"#000000\">class = 0</text>\n</g>\n<!-- 5&#45;&gt;13 -->\n<g id=\"edge9\" class=\"edge\">\n<title>5&#45;&gt;13</title>\n<path fill=\"none\" stroke=\"#000000\" d=\"M443.7268,-460.8796C433.2482,-449.3337 421.8709,-436.7976 411.3859,-425.2446\"/>\n<polygon fill=\"#000000\" stroke=\"#000000\" points=\"413.9553,-422.8678 404.643,-417.8149 408.7718,-427.5722 413.9553,-422.8678\"/>\n</g>\n<!-- 14 -->\n<g id=\"node11\" class=\"node\">\n<title>14</title>\n<path fill=\"#eca36e\" stroke=\"#000000\" d=\"M543.5,-417.5C543.5,-417.5 457.5,-417.5 457.5,-417.5 451.5,-417.5 445.5,-411.5 445.5,-405.5 445.5,-405.5 445.5,-361.5 445.5,-361.5 445.5,-355.5 451.5,-349.5 457.5,-349.5 457.5,-349.5 543.5,-349.5 543.5,-349.5 549.5,-349.5 555.5,-355.5 555.5,-361.5 555.5,-361.5 555.5,-405.5 555.5,-405.5 555.5,-411.5 549.5,-417.5 543.5,-417.5\"/>\n<text text-anchor=\"middle\" x=\"500.5\" y=\"-402.3\" font-family=\"Helvetica,sans-Serif\" font-size=\"14.00\" fill=\"#000000\">entropy = 0.74</text>\n<text text-anchor=\"middle\" x=\"500.5\" y=\"-387.3\" font-family=\"Helvetica,sans-Serif\" font-size=\"14.00\" fill=\"#000000\">samples = 38</text>\n<text text-anchor=\"middle\" x=\"500.5\" y=\"-372.3\" font-family=\"Helvetica,sans-Serif\" font-size=\"14.00\" fill=\"#000000\">value = [30, 8]</text>\n<text text-anchor=\"middle\" x=\"500.5\" y=\"-357.3\" font-family=\"Helvetica,sans-Serif\" font-size=\"14.00\" fill=\"#000000\">class = 0</text>\n</g>\n<!-- 5&#45;&gt;14 -->\n<g id=\"edge10\" class=\"edge\">\n<title>5&#45;&gt;14</title>\n<path fill=\"none\" stroke=\"#000000\" d=\"M488.1453,-460.8796C489.8483,-450.2134 491.6862,-438.7021 493.4107,-427.9015\"/>\n<polygon fill=\"#000000\" stroke=\"#000000\" points=\"496.9006,-428.2417 495.0211,-417.8149 489.9882,-427.138 496.9006,-428.2417\"/>\n</g>\n<!-- 11 -->\n<g id=\"node13\" class=\"node\">\n<title>11</title>\n<path fill=\"#f7d9c3\" stroke=\"#000000\" d=\"M677.5,-425C677.5,-425 585.5,-425 585.5,-425 579.5,-425 573.5,-419 573.5,-413 573.5,-413 573.5,-354 573.5,-354 573.5,-348 579.5,-342 585.5,-342 585.5,-342 677.5,-342 677.5,-342 683.5,-342 689.5,-348 689.5,-354 689.5,-354 689.5,-413 689.5,-413 689.5,-419 683.5,-425 677.5,-425\"/>\n<text text-anchor=\"middle\" x=\"631.5\" y=\"-409.8\" font-family=\"Helvetica,sans-Serif\" font-size=\"14.00\" fill=\"#000000\">Age &lt;= 30.5</text>\n<text text-anchor=\"middle\" x=\"631.5\" y=\"-394.8\" font-family=\"Helvetica,sans-Serif\" font-size=\"14.00\" fill=\"#000000\">entropy = 0.98</text>\n<text text-anchor=\"middle\" x=\"631.5\" y=\"-379.8\" font-family=\"Helvetica,sans-Serif\" font-size=\"14.00\" fill=\"#000000\">samples = 168</text>\n<text text-anchor=\"middle\" x=\"631.5\" y=\"-364.8\" font-family=\"Helvetica,sans-Serif\" font-size=\"14.00\" fill=\"#000000\">value = [99, 69]</text>\n<text text-anchor=\"middle\" x=\"631.5\" y=\"-349.8\" font-family=\"Helvetica,sans-Serif\" font-size=\"14.00\" fill=\"#000000\">class = 0</text>\n</g>\n<!-- 6&#45;&gt;11 -->\n<g id=\"edge12\" class=\"edge\">\n<title>6&#45;&gt;11</title>\n<path fill=\"none\" stroke=\"#000000\" d=\"M631.5,-460.8796C631.5,-452.6838 631.5,-443.9891 631.5,-435.5013\"/>\n<polygon fill=\"#000000\" stroke=\"#000000\" points=\"635.0001,-435.298 631.5,-425.2981 628.0001,-435.2981 635.0001,-435.298\"/>\n</g>\n<!-- 12 -->\n<g id=\"node24\" class=\"node\">\n<title>12</title>\n<path fill=\"#77bced\" stroke=\"#000000\" d=\"M805.5,-417.5C805.5,-417.5 719.5,-417.5 719.5,-417.5 713.5,-417.5 707.5,-411.5 707.5,-405.5 707.5,-405.5 707.5,-361.5 707.5,-361.5 707.5,-355.5 713.5,-349.5 719.5,-349.5 719.5,-349.5 805.5,-349.5 805.5,-349.5 811.5,-349.5 817.5,-355.5 817.5,-361.5 817.5,-361.5 817.5,-405.5 817.5,-405.5 817.5,-411.5 811.5,-417.5 805.5,-417.5\"/>\n<text text-anchor=\"middle\" x=\"762.5\" y=\"-402.3\" font-family=\"Helvetica,sans-Serif\" font-size=\"14.00\" fill=\"#000000\">entropy = 0.79</text>\n<text text-anchor=\"middle\" x=\"762.5\" y=\"-387.3\" font-family=\"Helvetica,sans-Serif\" font-size=\"14.00\" fill=\"#000000\">samples = 21</text>\n<text text-anchor=\"middle\" x=\"762.5\" y=\"-372.3\" font-family=\"Helvetica,sans-Serif\" font-size=\"14.00\" fill=\"#000000\">value = [5, 16]</text>\n<text text-anchor=\"middle\" x=\"762.5\" y=\"-357.3\" font-family=\"Helvetica,sans-Serif\" font-size=\"14.00\" fill=\"#000000\">class = 1</text>\n</g>\n<!-- 6&#45;&gt;12 -->\n<g id=\"edge23\" class=\"edge\">\n<title>6&#45;&gt;12</title>\n<path fill=\"none\" stroke=\"#000000\" d=\"M677.3174,-460.8796C690.2697,-449.1138 704.354,-436.3197 717.2714,-424.5855\"/>\n<polygon fill=\"#000000\" stroke=\"#000000\" points=\"719.6761,-427.1296 724.7247,-417.8149 714.9694,-421.9482 719.6761,-427.1296\"/>\n</g>\n<!-- 15 -->\n<g id=\"node14\" class=\"node\">\n<title>15</title>\n<path fill=\"#f0b78e\" stroke=\"#000000\" d=\"M582,-306C582,-306 475,-306 475,-306 469,-306 463,-300 463,-294 463,-294 463,-235 463,-235 463,-229 469,-223 475,-223 475,-223 582,-223 582,-223 588,-223 594,-229 594,-235 594,-235 594,-294 594,-294 594,-300 588,-306 582,-306\"/>\n<text text-anchor=\"middle\" x=\"528.5\" y=\"-290.8\" font-family=\"Helvetica,sans-Serif\" font-size=\"14.00\" fill=\"#000000\">Glucose &lt;= 123.5</text>\n<text text-anchor=\"middle\" x=\"528.5\" y=\"-275.8\" font-family=\"Helvetica,sans-Serif\" font-size=\"14.00\" fill=\"#000000\">entropy = 0.88</text>\n<text text-anchor=\"middle\" x=\"528.5\" y=\"-260.8\" font-family=\"Helvetica,sans-Serif\" font-size=\"14.00\" fill=\"#000000\">samples = 83</text>\n<text text-anchor=\"middle\" x=\"528.5\" y=\"-245.8\" font-family=\"Helvetica,sans-Serif\" font-size=\"14.00\" fill=\"#000000\">value = [58, 25]</text>\n<text text-anchor=\"middle\" x=\"528.5\" y=\"-230.8\" font-family=\"Helvetica,sans-Serif\" font-size=\"14.00\" fill=\"#000000\">class = 0</text>\n</g>\n<!-- 11&#45;&gt;15 -->\n<g id=\"edge13\" class=\"edge\">\n<title>11&#45;&gt;15</title>\n<path fill=\"none\" stroke=\"#000000\" d=\"M595.4756,-341.8796C587.6802,-332.8733 579.3633,-323.2644 571.3356,-313.9897\"/>\n<polygon fill=\"#000000\" stroke=\"#000000\" points=\"573.8691,-311.5686 564.6782,-306.2981 568.5763,-316.1498 573.8691,-311.5686\"/>\n</g>\n<!-- 16 -->\n<g id=\"node19\" class=\"node\">\n<title>16</title>\n<path fill=\"#f2f8fd\" stroke=\"#000000\" d=\"M842.5,-306C842.5,-306 624.5,-306 624.5,-306 618.5,-306 612.5,-300 612.5,-294 612.5,-294 612.5,-235 612.5,-235 612.5,-229 618.5,-223 624.5,-223 624.5,-223 842.5,-223 842.5,-223 848.5,-223 854.5,-229 854.5,-235 854.5,-235 854.5,-294 854.5,-294 854.5,-300 848.5,-306 842.5,-306\"/>\n<text text-anchor=\"middle\" x=\"733.5\" y=\"-290.8\" font-family=\"Helvetica,sans-Serif\" font-size=\"14.00\" fill=\"#000000\">DiabetesPedigreeFunction &lt;= 0.53</text>\n<text text-anchor=\"middle\" x=\"733.5\" y=\"-275.8\" font-family=\"Helvetica,sans-Serif\" font-size=\"14.00\" fill=\"#000000\">entropy = 1.0</text>\n<text text-anchor=\"middle\" x=\"733.5\" y=\"-260.8\" font-family=\"Helvetica,sans-Serif\" font-size=\"14.00\" fill=\"#000000\">samples = 85</text>\n<text text-anchor=\"middle\" x=\"733.5\" y=\"-245.8\" font-family=\"Helvetica,sans-Serif\" font-size=\"14.00\" fill=\"#000000\">value = [41, 44]</text>\n<text text-anchor=\"middle\" x=\"733.5\" y=\"-230.8\" font-family=\"Helvetica,sans-Serif\" font-size=\"14.00\" fill=\"#000000\">class = 1</text>\n</g>\n<!-- 11&#45;&gt;16 -->\n<g id=\"edge18\" class=\"edge\">\n<title>11&#45;&gt;16</title>\n<path fill=\"none\" stroke=\"#000000\" d=\"M667.1747,-341.8796C674.8943,-332.8733 683.1305,-323.2644 691.0803,-313.9897\"/>\n<polygon fill=\"#000000\" stroke=\"#000000\" points=\"693.8225,-316.1684 697.6731,-306.2981 688.5077,-311.6129 693.8225,-316.1684\"/>\n</g>\n<!-- 19 -->\n<g id=\"node15\" class=\"node\">\n<title>19</title>\n<path fill=\"#eba069\" stroke=\"#000000\" d=\"M452.5,-187C452.5,-187 312.5,-187 312.5,-187 306.5,-187 300.5,-181 300.5,-175 300.5,-175 300.5,-116 300.5,-116 300.5,-110 306.5,-104 312.5,-104 312.5,-104 452.5,-104 452.5,-104 458.5,-104 464.5,-110 464.5,-116 464.5,-116 464.5,-175 464.5,-175 464.5,-181 458.5,-187 452.5,-187\"/>\n<text text-anchor=\"middle\" x=\"382.5\" y=\"-171.8\" font-family=\"Helvetica,sans-Serif\" font-size=\"14.00\" fill=\"#000000\">SkinThickness &lt;= 29.5</text>\n<text text-anchor=\"middle\" x=\"382.5\" y=\"-156.8\" font-family=\"Helvetica,sans-Serif\" font-size=\"14.00\" fill=\"#000000\">entropy = 0.71</text>\n<text text-anchor=\"middle\" x=\"382.5\" y=\"-141.8\" font-family=\"Helvetica,sans-Serif\" font-size=\"14.00\" fill=\"#000000\">samples = 46</text>\n<text text-anchor=\"middle\" x=\"382.5\" y=\"-126.8\" font-family=\"Helvetica,sans-Serif\" font-size=\"14.00\" fill=\"#000000\">value = [37, 9]</text>\n<text text-anchor=\"middle\" x=\"382.5\" y=\"-111.8\" font-family=\"Helvetica,sans-Serif\" font-size=\"14.00\" fill=\"#000000\">class = 0</text>\n</g>\n<!-- 15&#45;&gt;19 -->\n<g id=\"edge14\" class=\"edge\">\n<title>15&#45;&gt;19</title>\n<path fill=\"none\" stroke=\"#000000\" d=\"M477.4363,-222.8796C465.9445,-213.513 453.6532,-203.4948 441.855,-193.8784\"/>\n<polygon fill=\"#000000\" stroke=\"#000000\" points=\"443.7444,-190.903 433.7817,-187.2981 439.3218,-196.329 443.7444,-190.903\"/>\n</g>\n<!-- 20 -->\n<g id=\"node18\" class=\"node\">\n<title>20</title>\n<path fill=\"#f9e1d0\" stroke=\"#000000\" d=\"M586.5,-179.5C586.5,-179.5 494.5,-179.5 494.5,-179.5 488.5,-179.5 482.5,-173.5 482.5,-167.5 482.5,-167.5 482.5,-123.5 482.5,-123.5 482.5,-117.5 488.5,-111.5 494.5,-111.5 494.5,-111.5 586.5,-111.5 586.5,-111.5 592.5,-111.5 598.5,-117.5 598.5,-123.5 598.5,-123.5 598.5,-167.5 598.5,-167.5 598.5,-173.5 592.5,-179.5 586.5,-179.5\"/>\n<text text-anchor=\"middle\" x=\"540.5\" y=\"-164.3\" font-family=\"Helvetica,sans-Serif\" font-size=\"14.00\" fill=\"#000000\">entropy = 0.99</text>\n<text text-anchor=\"middle\" x=\"540.5\" y=\"-149.3\" font-family=\"Helvetica,sans-Serif\" font-size=\"14.00\" fill=\"#000000\">samples = 37</text>\n<text text-anchor=\"middle\" x=\"540.5\" y=\"-134.3\" font-family=\"Helvetica,sans-Serif\" font-size=\"14.00\" fill=\"#000000\">value = [21, 16]</text>\n<text text-anchor=\"middle\" x=\"540.5\" y=\"-119.3\" font-family=\"Helvetica,sans-Serif\" font-size=\"14.00\" fill=\"#000000\">class = 0</text>\n</g>\n<!-- 15&#45;&gt;20 -->\n<g id=\"edge17\" class=\"edge\">\n<title>15&#45;&gt;20</title>\n<path fill=\"none\" stroke=\"#000000\" d=\"M532.697,-222.8796C533.7726,-212.2134 534.9334,-200.7021 536.0225,-189.9015\"/>\n<polygon fill=\"#000000\" stroke=\"#000000\" points=\"539.5186,-190.1157 537.0397,-179.8149 532.5539,-189.4133 539.5186,-190.1157\"/>\n</g>\n<!-- 21 -->\n<g id=\"node16\" class=\"node\">\n<title>21</title>\n<path fill=\"#e88e4d\" stroke=\"#000000\" d=\"M388.5,-68C388.5,-68 302.5,-68 302.5,-68 296.5,-68 290.5,-62 290.5,-56 290.5,-56 290.5,-12 290.5,-12 290.5,-6 296.5,0 302.5,0 302.5,0 388.5,0 388.5,0 394.5,0 400.5,-6 400.5,-12 400.5,-12 400.5,-56 400.5,-56 400.5,-62 394.5,-68 388.5,-68\"/>\n<text text-anchor=\"middle\" x=\"345.5\" y=\"-52.8\" font-family=\"Helvetica,sans-Serif\" font-size=\"14.00\" fill=\"#000000\">entropy = 0.44</text>\n<text text-anchor=\"middle\" x=\"345.5\" y=\"-37.8\" font-family=\"Helvetica,sans-Serif\" font-size=\"14.00\" fill=\"#000000\">samples = 22</text>\n<text text-anchor=\"middle\" x=\"345.5\" y=\"-22.8\" font-family=\"Helvetica,sans-Serif\" font-size=\"14.00\" fill=\"#000000\">value = [20, 2]</text>\n<text text-anchor=\"middle\" x=\"345.5\" y=\"-7.8\" font-family=\"Helvetica,sans-Serif\" font-size=\"14.00\" fill=\"#000000\">class = 0</text>\n</g>\n<!-- 19&#45;&gt;21 -->\n<g id=\"edge15\" class=\"edge\">\n<title>19&#45;&gt;21</title>\n<path fill=\"none\" stroke=\"#000000\" d=\"M368.7226,-103.9815C365.8862,-95.4342 362.8912,-86.4086 360.0292,-77.7839\"/>\n<polygon fill=\"#000000\" stroke=\"#000000\" points=\"363.3415,-76.6524 356.87,-68.2637 356.6977,-78.8571 363.3415,-76.6524\"/>\n</g>\n<!-- 22 -->\n<g id=\"node17\" class=\"node\">\n<title>22</title>\n<path fill=\"#f0b58b\" stroke=\"#000000\" d=\"M516.5,-68C516.5,-68 430.5,-68 430.5,-68 424.5,-68 418.5,-62 418.5,-56 418.5,-56 418.5,-12 418.5,-12 418.5,-6 424.5,0 430.5,0 430.5,0 516.5,0 516.5,0 522.5,0 528.5,-6 528.5,-12 528.5,-12 528.5,-56 528.5,-56 528.5,-62 522.5,-68 516.5,-68\"/>\n<text text-anchor=\"middle\" x=\"473.5\" y=\"-52.8\" font-family=\"Helvetica,sans-Serif\" font-size=\"14.00\" fill=\"#000000\">entropy = 0.87</text>\n<text text-anchor=\"middle\" x=\"473.5\" y=\"-37.8\" font-family=\"Helvetica,sans-Serif\" font-size=\"14.00\" fill=\"#000000\">samples = 24</text>\n<text text-anchor=\"middle\" x=\"473.5\" y=\"-22.8\" font-family=\"Helvetica,sans-Serif\" font-size=\"14.00\" fill=\"#000000\">value = [17, 7]</text>\n<text text-anchor=\"middle\" x=\"473.5\" y=\"-7.8\" font-family=\"Helvetica,sans-Serif\" font-size=\"14.00\" fill=\"#000000\">class = 0</text>\n</g>\n<!-- 19&#45;&gt;22 -->\n<g id=\"edge16\" class=\"edge\">\n<title>19&#45;&gt;22</title>\n<path fill=\"none\" stroke=\"#000000\" d=\"M416.385,-103.9815C423.8109,-94.8828 431.6792,-85.242 439.1241,-76.1199\"/>\n<polygon fill=\"#000000\" stroke=\"#000000\" points=\"441.9245,-78.224 445.5359,-68.2637 436.5014,-73.798 441.9245,-78.224\"/>\n</g>\n<!-- 23 -->\n<g id=\"node20\" class=\"node\">\n<title>23</title>\n<path fill=\"#fbeade\" stroke=\"#000000\" d=\"M791.5,-187C791.5,-187 651.5,-187 651.5,-187 645.5,-187 639.5,-181 639.5,-175 639.5,-175 639.5,-116 639.5,-116 639.5,-110 645.5,-104 651.5,-104 651.5,-104 791.5,-104 791.5,-104 797.5,-104 803.5,-110 803.5,-116 803.5,-116 803.5,-175 803.5,-175 803.5,-181 797.5,-187 791.5,-187\"/>\n<text text-anchor=\"middle\" x=\"721.5\" y=\"-171.8\" font-family=\"Helvetica,sans-Serif\" font-size=\"14.00\" fill=\"#000000\">SkinThickness &lt;= 26.5</text>\n<text text-anchor=\"middle\" x=\"721.5\" y=\"-156.8\" font-family=\"Helvetica,sans-Serif\" font-size=\"14.00\" fill=\"#000000\">entropy = 0.99</text>\n<text text-anchor=\"middle\" x=\"721.5\" y=\"-141.8\" font-family=\"Helvetica,sans-Serif\" font-size=\"14.00\" fill=\"#000000\">samples = 55</text>\n<text text-anchor=\"middle\" x=\"721.5\" y=\"-126.8\" font-family=\"Helvetica,sans-Serif\" font-size=\"14.00\" fill=\"#000000\">value = [30, 25]</text>\n<text text-anchor=\"middle\" x=\"721.5\" y=\"-111.8\" font-family=\"Helvetica,sans-Serif\" font-size=\"14.00\" fill=\"#000000\">class = 0</text>\n</g>\n<!-- 16&#45;&gt;23 -->\n<g id=\"edge19\" class=\"edge\">\n<title>16&#45;&gt;23</title>\n<path fill=\"none\" stroke=\"#000000\" d=\"M729.303,-222.8796C728.4765,-214.6838 727.5997,-205.9891 726.7438,-197.5013\"/>\n<polygon fill=\"#000000\" stroke=\"#000000\" points=\"730.2007,-196.8964 725.7149,-187.2981 723.236,-197.5988 730.2007,-196.8964\"/>\n</g>\n<!-- 24 -->\n<g id=\"node23\" class=\"node\">\n<title>24</title>\n<path fill=\"#acd6f4\" stroke=\"#000000\" d=\"M925.5,-179.5C925.5,-179.5 833.5,-179.5 833.5,-179.5 827.5,-179.5 821.5,-173.5 821.5,-167.5 821.5,-167.5 821.5,-123.5 821.5,-123.5 821.5,-117.5 827.5,-111.5 833.5,-111.5 833.5,-111.5 925.5,-111.5 925.5,-111.5 931.5,-111.5 937.5,-117.5 937.5,-123.5 937.5,-123.5 937.5,-167.5 937.5,-167.5 937.5,-173.5 931.5,-179.5 925.5,-179.5\"/>\n<text text-anchor=\"middle\" x=\"879.5\" y=\"-164.3\" font-family=\"Helvetica,sans-Serif\" font-size=\"14.00\" fill=\"#000000\">entropy = 0.95</text>\n<text text-anchor=\"middle\" x=\"879.5\" y=\"-149.3\" font-family=\"Helvetica,sans-Serif\" font-size=\"14.00\" fill=\"#000000\">samples = 30</text>\n<text text-anchor=\"middle\" x=\"879.5\" y=\"-134.3\" font-family=\"Helvetica,sans-Serif\" font-size=\"14.00\" fill=\"#000000\">value = [11, 19]</text>\n<text text-anchor=\"middle\" x=\"879.5\" y=\"-119.3\" font-family=\"Helvetica,sans-Serif\" font-size=\"14.00\" fill=\"#000000\">class = 1</text>\n</g>\n<!-- 16&#45;&gt;24 -->\n<g id=\"edge22\" class=\"edge\">\n<title>16&#45;&gt;24</title>\n<path fill=\"none\" stroke=\"#000000\" d=\"M784.5637,-222.8796C799.134,-211.0038 814.9896,-198.0804 829.4958,-186.2568\"/>\n<polygon fill=\"#000000\" stroke=\"#000000\" points=\"831.8592,-188.8459 837.3993,-179.8149 827.4366,-183.4199 831.8592,-188.8459\"/>\n</g>\n<!-- 25 -->\n<g id=\"node21\" class=\"node\">\n<title>25</title>\n<path fill=\"#c0e0f7\" stroke=\"#000000\" d=\"M697.5,-68C697.5,-68 605.5,-68 605.5,-68 599.5,-68 593.5,-62 593.5,-56 593.5,-56 593.5,-12 593.5,-12 593.5,-6 599.5,0 605.5,0 605.5,0 697.5,0 697.5,0 703.5,0 709.5,-6 709.5,-12 709.5,-12 709.5,-56 709.5,-56 709.5,-62 703.5,-68 697.5,-68\"/>\n<text text-anchor=\"middle\" x=\"651.5\" y=\"-52.8\" font-family=\"Helvetica,sans-Serif\" font-size=\"14.00\" fill=\"#000000\">entropy = 0.97</text>\n<text text-anchor=\"middle\" x=\"651.5\" y=\"-37.8\" font-family=\"Helvetica,sans-Serif\" font-size=\"14.00\" fill=\"#000000\">samples = 32</text>\n<text text-anchor=\"middle\" x=\"651.5\" y=\"-22.8\" font-family=\"Helvetica,sans-Serif\" font-size=\"14.00\" fill=\"#000000\">value = [13, 19]</text>\n<text text-anchor=\"middle\" x=\"651.5\" y=\"-7.8\" font-family=\"Helvetica,sans-Serif\" font-size=\"14.00\" fill=\"#000000\">class = 1</text>\n</g>\n<!-- 23&#45;&gt;25 -->\n<g id=\"edge20\" class=\"edge\">\n<title>23&#45;&gt;25</title>\n<path fill=\"none\" stroke=\"#000000\" d=\"M695.4346,-103.9815C689.8955,-95.1585 684.0364,-85.8258 678.4645,-76.9506\"/>\n<polygon fill=\"#000000\" stroke=\"#000000\" points=\"681.2922,-74.872 673.0108,-68.2637 675.3637,-78.594 681.2922,-74.872\"/>\n</g>\n<!-- 26 -->\n<g id=\"node22\" class=\"node\">\n<title>26</title>\n<path fill=\"#eead7f\" stroke=\"#000000\" d=\"M825.5,-68C825.5,-68 739.5,-68 739.5,-68 733.5,-68 727.5,-62 727.5,-56 727.5,-56 727.5,-12 727.5,-12 727.5,-6 733.5,0 739.5,0 739.5,0 825.5,0 825.5,0 831.5,0 837.5,-6 837.5,-12 837.5,-12 837.5,-56 837.5,-56 837.5,-62 831.5,-68 825.5,-68\"/>\n<text text-anchor=\"middle\" x=\"782.5\" y=\"-52.8\" font-family=\"Helvetica,sans-Serif\" font-size=\"14.00\" fill=\"#000000\">entropy = 0.83</text>\n<text text-anchor=\"middle\" x=\"782.5\" y=\"-37.8\" font-family=\"Helvetica,sans-Serif\" font-size=\"14.00\" fill=\"#000000\">samples = 23</text>\n<text text-anchor=\"middle\" x=\"782.5\" y=\"-22.8\" font-family=\"Helvetica,sans-Serif\" font-size=\"14.00\" fill=\"#000000\">value = [17, 6]</text>\n<text text-anchor=\"middle\" x=\"782.5\" y=\"-7.8\" font-family=\"Helvetica,sans-Serif\" font-size=\"14.00\" fill=\"#000000\">class = 0</text>\n</g>\n<!-- 23&#45;&gt;26 -->\n<g id=\"edge21\" class=\"edge\">\n<title>23&#45;&gt;26</title>\n<path fill=\"none\" stroke=\"#000000\" d=\"M744.2141,-103.9815C748.9908,-95.2504 754.0405,-86.0202 758.8506,-77.2281\"/>\n<polygon fill=\"#000000\" stroke=\"#000000\" points=\"762.0258,-78.7165 763.7549,-68.2637 755.8847,-75.3568 762.0258,-78.7165\"/>\n</g>\n<!-- 7 -->\n<g id=\"node26\" class=\"node\">\n<title>7</title>\n<path fill=\"#edf6fd\" stroke=\"#000000\" d=\"M691.5,-655.5C691.5,-655.5 599.5,-655.5 599.5,-655.5 593.5,-655.5 587.5,-649.5 587.5,-643.5 587.5,-643.5 587.5,-599.5 587.5,-599.5 587.5,-593.5 593.5,-587.5 599.5,-587.5 599.5,-587.5 691.5,-587.5 691.5,-587.5 697.5,-587.5 703.5,-593.5 703.5,-599.5 703.5,-599.5 703.5,-643.5 703.5,-643.5 703.5,-649.5 697.5,-655.5 691.5,-655.5\"/>\n<text text-anchor=\"middle\" x=\"645.5\" y=\"-640.3\" font-family=\"Helvetica,sans-Serif\" font-size=\"14.00\" fill=\"#000000\">entropy = 1.0</text>\n<text text-anchor=\"middle\" x=\"645.5\" y=\"-625.3\" font-family=\"Helvetica,sans-Serif\" font-size=\"14.00\" fill=\"#000000\">samples = 21</text>\n<text text-anchor=\"middle\" x=\"645.5\" y=\"-610.3\" font-family=\"Helvetica,sans-Serif\" font-size=\"14.00\" fill=\"#000000\">value = [10, 11]</text>\n<text text-anchor=\"middle\" x=\"645.5\" y=\"-595.3\" font-family=\"Helvetica,sans-Serif\" font-size=\"14.00\" fill=\"#000000\">class = 1</text>\n</g>\n<!-- 2&#45;&gt;7 -->\n<g id=\"edge25\" class=\"edge\">\n<title>2&#45;&gt;7</title>\n<path fill=\"none\" stroke=\"#000000\" d=\"M655.904,-698.8796C654.4699,-688.2134 652.9221,-676.7021 651.47,-665.9015\"/>\n<polygon fill=\"#000000\" stroke=\"#000000\" points=\"654.9152,-665.2593 650.1138,-655.8149 647.9776,-666.1922 654.9152,-665.2593\"/>\n</g>\n<!-- 8 -->\n<g id=\"node27\" class=\"node\">\n<title>8</title>\n<path fill=\"#4da7e8\" stroke=\"#000000\" d=\"M829,-663C829,-663 734,-663 734,-663 728,-663 722,-657 722,-651 722,-651 722,-592 722,-592 722,-586 728,-580 734,-580 734,-580 829,-580 829,-580 835,-580 841,-586 841,-592 841,-592 841,-651 841,-651 841,-657 835,-663 829,-663\"/>\n<text text-anchor=\"middle\" x=\"781.5\" y=\"-647.8\" font-family=\"Helvetica,sans-Serif\" font-size=\"14.00\" fill=\"#000000\">Insulin &lt;= 183.5</text>\n<text text-anchor=\"middle\" x=\"781.5\" y=\"-632.8\" font-family=\"Helvetica,sans-Serif\" font-size=\"14.00\" fill=\"#000000\">entropy = 0.45</text>\n<text text-anchor=\"middle\" x=\"781.5\" y=\"-617.8\" font-family=\"Helvetica,sans-Serif\" font-size=\"14.00\" fill=\"#000000\">samples = 54</text>\n<text text-anchor=\"middle\" x=\"781.5\" y=\"-602.8\" font-family=\"Helvetica,sans-Serif\" font-size=\"14.00\" fill=\"#000000\">value = [5, 49]</text>\n<text text-anchor=\"middle\" x=\"781.5\" y=\"-587.8\" font-family=\"Helvetica,sans-Serif\" font-size=\"14.00\" fill=\"#000000\">class = 1</text>\n</g>\n<!-- 2&#45;&gt;8 -->\n<g id=\"edge26\" class=\"edge\">\n<title>2&#45;&gt;8</title>\n<path fill=\"none\" stroke=\"#000000\" d=\"M703.4702,-698.8796C712.7338,-689.6931 722.6296,-679.8798 732.1552,-670.4336\"/>\n<polygon fill=\"#000000\" stroke=\"#000000\" points=\"734.7146,-672.8247 739.3507,-663.2981 729.7856,-667.8543 734.7146,-672.8247\"/>\n</g>\n<!-- 9 -->\n<g id=\"node28\" class=\"node\">\n<title>9</title>\n<path fill=\"#399de5\" stroke=\"#000000\" d=\"M809,-536.5C809,-536.5 726,-536.5 726,-536.5 720,-536.5 714,-530.5 714,-524.5 714,-524.5 714,-480.5 714,-480.5 714,-474.5 720,-468.5 726,-468.5 726,-468.5 809,-468.5 809,-468.5 815,-468.5 821,-474.5 821,-480.5 821,-480.5 821,-524.5 821,-524.5 821,-530.5 815,-536.5 809,-536.5\"/>\n<text text-anchor=\"middle\" x=\"767.5\" y=\"-521.3\" font-family=\"Helvetica,sans-Serif\" font-size=\"14.00\" fill=\"#000000\">entropy = 0.0</text>\n<text text-anchor=\"middle\" x=\"767.5\" y=\"-506.3\" font-family=\"Helvetica,sans-Serif\" font-size=\"14.00\" fill=\"#000000\">samples = 34</text>\n<text text-anchor=\"middle\" x=\"767.5\" y=\"-491.3\" font-family=\"Helvetica,sans-Serif\" font-size=\"14.00\" fill=\"#000000\">value = [0, 34]</text>\n<text text-anchor=\"middle\" x=\"767.5\" y=\"-476.3\" font-family=\"Helvetica,sans-Serif\" font-size=\"14.00\" fill=\"#000000\">class = 1</text>\n</g>\n<!-- 8&#45;&gt;9 -->\n<g id=\"edge27\" class=\"edge\">\n<title>8&#45;&gt;9</title>\n<path fill=\"none\" stroke=\"#000000\" d=\"M776.6035,-579.8796C775.3486,-569.2134 773.9944,-557.7021 772.7237,-546.9015\"/>\n<polygon fill=\"#000000\" stroke=\"#000000\" points=\"776.1816,-546.3375 771.5371,-536.8149 769.2295,-547.1554 776.1816,-546.3375\"/>\n</g>\n<!-- 10 -->\n<g id=\"node29\" class=\"node\">\n<title>10</title>\n<path fill=\"#7bbeee\" stroke=\"#000000\" d=\"M937.5,-536.5C937.5,-536.5 851.5,-536.5 851.5,-536.5 845.5,-536.5 839.5,-530.5 839.5,-524.5 839.5,-524.5 839.5,-480.5 839.5,-480.5 839.5,-474.5 845.5,-468.5 851.5,-468.5 851.5,-468.5 937.5,-468.5 937.5,-468.5 943.5,-468.5 949.5,-474.5 949.5,-480.5 949.5,-480.5 949.5,-524.5 949.5,-524.5 949.5,-530.5 943.5,-536.5 937.5,-536.5\"/>\n<text text-anchor=\"middle\" x=\"894.5\" y=\"-521.3\" font-family=\"Helvetica,sans-Serif\" font-size=\"14.00\" fill=\"#000000\">entropy = 0.81</text>\n<text text-anchor=\"middle\" x=\"894.5\" y=\"-506.3\" font-family=\"Helvetica,sans-Serif\" font-size=\"14.00\" fill=\"#000000\">samples = 20</text>\n<text text-anchor=\"middle\" x=\"894.5\" y=\"-491.3\" font-family=\"Helvetica,sans-Serif\" font-size=\"14.00\" fill=\"#000000\">value = [5, 15]</text>\n<text text-anchor=\"middle\" x=\"894.5\" y=\"-476.3\" font-family=\"Helvetica,sans-Serif\" font-size=\"14.00\" fill=\"#000000\">class = 1</text>\n</g>\n<!-- 8&#45;&gt;10 -->\n<g id=\"edge28\" class=\"edge\">\n<title>8&#45;&gt;10</title>\n<path fill=\"none\" stroke=\"#000000\" d=\"M821.0219,-579.8796C831.9857,-568.3337 843.8897,-555.7976 854.8601,-544.2446\"/>\n<polygon fill=\"#000000\" stroke=\"#000000\" points=\"857.5673,-546.4766 861.9152,-536.8149 852.4913,-541.6564 857.5673,-546.4766\"/>\n</g>\n</g>\n</svg>\n"
          },
          "metadata": {
            "tags": []
          },
          "execution_count": 12
        }
      ]
    },
    {
      "cell_type": "markdown",
      "metadata": {
        "id": "r_to9fiYtGmi"
      },
      "source": [
        "\n",
        "Выводим глубину дерева:"
      ]
    },
    {
      "cell_type": "code",
      "metadata": {
        "colab": {
          "base_uri": "https://localhost:8080/"
        },
        "id": "QTyCXhKatKOL",
        "outputId": "630a4ff4-6038-496f-a631-45e28ab78c80"
      },
      "source": [
        "clf.tree_.max_depth"
      ],
      "execution_count": null,
      "outputs": [
        {
          "output_type": "execute_result",
          "data": {
            "text/plain": [
              "7"
            ]
          },
          "metadata": {
            "tags": []
          },
          "execution_count": 14
        }
      ]
    },
    {
      "cell_type": "markdown",
      "metadata": {
        "id": "_x1DghczuEK3"
      },
      "source": [
        "Выполняем предсказание для объектов из тестовой выборки:"
      ]
    },
    {
      "cell_type": "code",
      "metadata": {
        "id": "nZlXW9xAuFKI"
      },
      "source": [
        "features = list(test.columns[:8])\n",
        "x = test[features]\n",
        "y_true = test['Outcome']\n",
        "y_pred = clf.predict(x)"
      ],
      "execution_count": null,
      "outputs": []
    },
    {
      "cell_type": "markdown",
      "metadata": {
        "id": "ljcSI5sFuIf2"
      },
      "source": [
        "Доля правильных ответов классификатора:"
      ]
    },
    {
      "cell_type": "code",
      "metadata": {
        "colab": {
          "base_uri": "https://localhost:8080/"
        },
        "id": "1fZudPcSuKFh",
        "outputId": "6198392e-e294-4dda-d186-20db0d0ca045"
      },
      "source": [
        "from sklearn.metrics import accuracy_score\n",
        "accuracy_score(y_true, y_pred)"
      ],
      "execution_count": null,
      "outputs": [
        {
          "output_type": "execute_result",
          "data": {
            "text/plain": [
              "0.7909604519774012"
            ]
          },
          "metadata": {
            "tags": []
          },
          "execution_count": 16
        }
      ]
    },
    {
      "cell_type": "markdown",
      "metadata": {
        "id": "H_kMqGNJua2A"
      },
      "source": [
        "\n",
        "Выполним предсказание для конкретного объекта (с индексом 708) исходных данных:\n"
      ]
    },
    {
      "cell_type": "code",
      "metadata": {
        "colab": {
          "base_uri": "https://localhost:8080/"
        },
        "id": "VaR_wT34udHO",
        "outputId": "f88b1eb1-a434-45be-9c0e-a0b83e26e8c9"
      },
      "source": [
        "df.loc[708, features]"
      ],
      "execution_count": null,
      "outputs": [
        {
          "output_type": "execute_result",
          "data": {
            "text/plain": [
              "Pregnancies                   9.000\n",
              "Glucose                     164.000\n",
              "BloodPressure                78.000\n",
              "SkinThickness                 0.000\n",
              "Insulin                       0.000\n",
              "BMI                          32.800\n",
              "DiabetesPedigreeFunction      0.148\n",
              "Age                          45.000\n",
              "Name: 708, dtype: float64"
            ]
          },
          "metadata": {
            "tags": []
          },
          "execution_count": 18
        }
      ]
    },
    {
      "cell_type": "markdown",
      "metadata": {
        "id": "eCOXAUJXugkl"
      },
      "source": [
        "Назначенный класс:"
      ]
    },
    {
      "cell_type": "code",
      "metadata": {
        "colab": {
          "base_uri": "https://localhost:8080/"
        },
        "id": "kzcfKWXSuhg0",
        "outputId": "2f0e7f7c-b980-4ea6-c7f2-6f5f2aef92a0"
      },
      "source": [
        "clf.predict([df.loc[708, features].tolist()])[0]"
      ],
      "execution_count": null,
      "outputs": [
        {
          "output_type": "execute_result",
          "data": {
            "text/plain": [
              "1"
            ]
          },
          "metadata": {
            "tags": []
          },
          "execution_count": 19
        }
      ]
    },
    {
      "cell_type": "markdown",
      "metadata": {
        "id": "9xuSc9ET8JAj"
      },
      "source": [
        "Полученный класс соответствует данным из датасета. Таким образом, обученный нами классификатор верно выявляет диабет у пациентов с вероятностью в 79%, задача машинного обучения решена успешно.\n"
      ]
    }
  ]
}